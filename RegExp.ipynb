{
 "cells": [
  {
   "cell_type": "code",
   "execution_count": 1,
   "metadata": {},
   "outputs": [],
   "source": [
    "import re"
   ]
  },
  {
   "cell_type": "markdown",
   "metadata": {},
   "source": [
    "## Поиск даты ##"
   ]
  },
  {
   "cell_type": "code",
   "execution_count": 2,
   "metadata": {},
   "outputs": [
    {
     "name": "stdout",
     "output_type": "stream",
     "text": [
      "['12-05-2007', '11-11-2011', '12-01-2009']\n"
     ]
    }
   ],
   "source": [
    "result = re.findall(r'\\d{2}-\\d{2}-\\d{4}', 'Amit 34-3456 12-05-2007, XYZ 56-4532 11-11-2011, ABC 67-8945 12-01-2009')\n",
    "print(result)\n",
    "\n"
   ]
  },
  {
   "cell_type": "markdown",
   "metadata": {},
   "source": [
    "## Разбить строку по нескольким разделителям или заменить разделители пробелами ##"
   ]
  },
  {
   "cell_type": "code",
   "execution_count": 3,
   "metadata": {},
   "outputs": [
    {
     "name": "stdout",
     "output_type": "stream",
     "text": [
      "['asdf', 'fjdk', 'afed', 'fjek', 'asdf', 'foo'] \n",
      " asdf fjdk afed fjek asdf foo\n"
     ]
    }
   ],
   "source": [
    "line = 'asdf fjdk;afed,fjek,asdf,foo' # String has multiple delimiters (\";\",\",\",\" \").\n",
    "result_split = re.split(r'[;,\\s]', line)\n",
    "result_sub = re.sub(r'[;,\\s]',' ', line)\n",
    "print(result_split,'\\n', result_sub)\n",
    "\n"
   ]
  },
  {
   "cell_type": "markdown",
   "metadata": {},
   "source": [
    "## Проверка надёжности пароля по критериям ###\n",
    " 1. (?=.*[0-9]) - строка содержит хотя бы одно число;\n",
    " 2. (?=.*[a-z]) - строка содержит хотя бы одну латинскую букву в нижнем регистре;\n",
    " 3. (?=.*[A-Z]) - строка содержит хотя бы одну латинскую букву в верхнем регистре;\n",
    " 4. [0-9a-zA-Z]{8,} - строка состоит не менее, чем из 8 вышеупомянутых символов."
   ]
  },
  {
   "cell_type": "code",
   "execution_count": 4,
   "metadata": {},
   "outputs": [
    {
     "name": "stdout",
     "output_type": "stream",
     "text": [
      "True\n",
      "True\n",
      "True\n",
      "True\n",
      "\n",
      "False\n",
      "False\n",
      "False\n",
      "False\n",
      "False\n",
      "False\n"
     ]
    }
   ],
   "source": [
    "pattern_password = re.compile(r'^(?=.*[0-9].*)(?=.*[a-z].*)(?=.*[A-Z].*)[0-9a-zA-Z]{8,}$')\n",
    "\n",
    "print(bool(pattern_password.match('absghk4D')))  \n",
    "print(bool(pattern_password.match('abc123FF')))  \n",
    "print(bool(pattern_password.match('123ABCac')))  \n",
    "print(bool(pattern_password.match('abcFF123')))  \n",
    "print()\n",
    "print(bool(pattern_password.match('absghk4D $%#$')))  \n",
    "print(bool(pattern_password.match('')))               \n",
    "print(bool(pattern_password.match('bsghk4D')))        \n",
    "print(bool(pattern_password.match('abc_aaFF')))       \n",
    "print(bool(pattern_password.match('abcabcac')))       \n",
    "print(bool(pattern_password.match('ABCDF!@##')))      "
   ]
  },
  {
   "cell_type": "markdown",
   "metadata": {},
   "source": [
    "### Поиск чисел с разделителем через каждые три знака ###\n",
    " 1. (?<!\\d) - сразу перед текущей позицией не должно быть цифры\n",
    " 2. (?<!\\d[.,]) - сразу перед текущей позицией не должно быть цифры, за которой следует точка или запятая\n",
    " 3. \\d{1,3} - от 1 до 3 цифр\n",
    " 4. (?:,\\d{3})* - запятая и три цифры\n",
    " 5. (?![.,]?\\d) - сразу после не должно быть опциональных точки или запятой, за которыми следует цифра"
   ]
  },
  {
   "cell_type": "code",
   "execution_count": 5,
   "metadata": {},
   "outputs": [
    {
     "name": "stdout",
     "output_type": "stream",
     "text": [
      "['41', '1,234', '6,368,745']\n"
     ]
    }
   ],
   "source": [
    "numberRegex = re.compile(r'(?<!\\d)(?<!\\d[.,])\\d{1,3}(?:,\\d{3})*(?![.,]?\\d)')\n",
    "mo = numberRegex.findall('41, 1,234, 6,368,745, 12,34,567, 1234')\n",
    "print(mo)"
   ]
  },
  {
   "cell_type": "markdown",
   "metadata": {},
   "source": [
    "## Извлечь информацию из html-файла ###"
   ]
  },
  {
   "cell_type": "code",
   "execution_count": 6,
   "metadata": {},
   "outputs": [
    {
     "name": "stdout",
     "output_type": "stream",
     "text": [
      "[('Noah', 'Emma'), ('Liam', 'Olivia'), ('Mason', 'Sophia'), ('Jacob', 'Isabella'), ('William', 'Ava'), ('Ethan', 'Mia'), ('Michael', 'Emily')]\n"
     ]
    }
   ],
   "source": [
    "test_str = '<td>1NoahEmma2LiamOlivia3MasonSophia4JacobIsabella5WilliamAva6EthanMia7MichaelEmily</td>'\n",
    "result = re.findall(r'\\d([A-Z][A-Za-z]+)([A-Z][A-Za-z]+)', test_str)\n",
    "print(result)"
   ]
  },
  {
   "cell_type": "code",
   "execution_count": null,
   "metadata": {},
   "outputs": [],
   "source": []
  }
 ],
 "metadata": {
  "kernelspec": {
   "display_name": "Python 3",
   "language": "python",
   "name": "python3"
  },
  "language_info": {
   "codemirror_mode": {
    "name": "ipython",
    "version": 3
   },
   "file_extension": ".py",
   "mimetype": "text/x-python",
   "name": "python",
   "nbconvert_exporter": "python",
   "pygments_lexer": "ipython3",
   "version": "3.6.3"
  }
 },
 "nbformat": 4,
 "nbformat_minor": 2
}
